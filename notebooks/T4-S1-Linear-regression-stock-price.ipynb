{
 "cells": [
  {
   "cell_type": "markdown",
   "metadata": {},
   "source": [
    "![My Logo](https://thoughtsociety.org/wp-content/uploads/2019/03/ts_notebook_header.png)"
   ]
  },
  {
   "cell_type": "markdown",
   "metadata": {},
   "source": [
    "# Machine Learning Quick-Start\n",
    "\n",
    "We will be exploring and learning about supervised ML\n",
    "\n",
    "## Linear Regression - Predict Stock Price\n",
    "\n",
    "What if we have historic stock prices and we want to predict future prices?\n",
    "We could use Simple Linear Regression for this since it has continuous variables for price over time.\n",
    "\n",
    "With Linear Regression, we could model a function that predicts new points along a line that derived from known points that came before.\n",
    "\n",
    "In order for this to be effective, we need to re-structure the data, split it into train and test and to scale it.\n",
    "\n",
    "We can then use a linear regression model from scikitlearn, fit it (train), predict the future prices, run some scoring and then plot the predicted values onto the end of the known ones.\n",
    "\n",
    "#### Continue with\n",
    "\n",
    "$ y=f(X) $\n",
    "\n",
    "Where we want to predict $y$ from a $f(X)$ where $f$ is a model that we can teach.\n",
    "Once we make a prediction $y$, we can measure its error against known $X$ values and strive to lower the error rate. Being careful not to overdo this improvement step else we enter into Over/Under-fitting territory.\n",
    "\n",
    "### Overfitting/Underfitting\n",
    "\n",
    "We look to use induction where generalized concepts may be learned from specific examples. Generalization is measured by how well the model predicts new, unknown data (unlabeled) after having been trained on labeled data.\n",
    "\n",
    "This measure is referred to in machine learning as 'Overfitting' and 'Underfitting'.\n",
    "\n",
    "Good sources on this concept:\n",
    "\n",
    "[Overfitting/Underfitting in Machine Learning from Machinelearningmaster.com](https://machinelearningmastery.com/overfitting-and-underfitting-with-machine-learning-algorithms/)\n",
    "\n",
    "[Anecdotal description of overfitting & undefitting on Quora](https://qr.ae/TWpFCz)\n",
    "\n",
    "**Overfitting** occurs as the result of a model paying too much attention to noise and outliers. The effect will be a decrease in the model's ability to generalize new data based on this overfitted model. Excessive tuning passes could cause the model to go past optimum state (lowest error rate) and pay too much attention to outliers. \n",
    "\n",
    "**Underfitting** is when the algorithm does not fit the data well enough."
   ]
  },
  {
   "cell_type": "markdown",
   "metadata": {},
   "source": [
    "### With some inspiration from:\n",
    "\n",
    "`Harrison Kinsley @ pythonprogramming.net`\n",
    "\n",
    "`Chris Albon @ chrisalbon.com`\n",
    "\n",
    "`Jason Brownlee, PhD. @ machinelearningmastery.com`\n",
    "\n",
    "`Jose Portilla @ udemy.com`\n",
    "\n",
    "#### Whose diligence has spread far and wide to aspirants of Data Science"
   ]
  },
  {
   "cell_type": "markdown",
   "metadata": {},
   "source": [
    "### Steps we will take:\n",
    "\n",
    "1. Get Apple (or Google) historic stock data from Quandl using our API key\n",
    "2. Using Quandl.get, create a pandas dataframe from the request\n",
    "3. Do EDA - Exploratory Data Analysis\n",
    "4. Show the head() - noting that there are around 2500 entries with 12 columns (features)\n",
    "5. Plot the 'Adj. Close' of the stock\n",
    "6. Re-structure dataframe to include relevant info\n",
    "7. Create HL_PCT and PCT_Change from high, low open and close\n",
    "8. Restructure dataframe with new values\n",
    "9. Fill NaN's with 99999\n",
    "11. Do shifts of forecast_out\n",
    "12. Assign X and y\n",
    "13. Pre-process X\n",
    "14. Create train_test_split\n",
    "15. Instantiate LinearRegression as the clf (Classifier)\n",
    "16. Fit the model\n",
    "17. Score the confidence show it\n",
    "18. Synthesize a date array\n",
    "19. Plot the forecast on the tail of the 'Adj. Close'"
   ]
  },
  {
   "cell_type": "markdown",
   "metadata": {},
   "source": [
    "##  Stock Price Prediction using Regression"
   ]
  },
  {
   "cell_type": "code",
   "execution_count": 2,
   "metadata": {},
   "outputs": [],
   "source": [
    "import seaborn as sns\n",
    "import numpy as np\n",
    "import pandas as pd\n",
    "import matplotlib.pyplot as plt\n",
    "from matplotlib import style\n",
    "import datetime"
   ]
  },
  {
   "cell_type": "code",
   "execution_count": 3,
   "metadata": {},
   "outputs": [],
   "source": [
    "%matplotlib inline"
   ]
  },
  {
   "cell_type": "code",
   "execution_count": 4,
   "metadata": {},
   "outputs": [],
   "source": [
    "# For ignoring warnings\n",
    "import warnings\n",
    "warnings.filterwarnings('ignore')"
   ]
  },
  {
   "cell_type": "code",
   "execution_count": 5,
   "metadata": {},
   "outputs": [],
   "source": [
    "from sklearn.linear_model import LinearRegression\n",
    "from sklearn import metrics\n",
    "from sklearn.model_selection import train_test_split\n",
    "import math\n",
    "\n",
    "from sklearn import metrics\n",
    "\n"
   ]
  },
  {
   "cell_type": "code",
   "execution_count": 6,
   "metadata": {},
   "outputs": [],
   "source": [
    "import quandl"
   ]
  },
  {
   "cell_type": "code",
   "execution_count": 7,
   "metadata": {},
   "outputs": [],
   "source": [
    "my_quandl_token = \"L1VxXhzaNadM1uEHDZ_3\""
   ]
  },
  {
   "cell_type": "code",
   "execution_count": 8,
   "metadata": {},
   "outputs": [],
   "source": [
    "quandl.ApiConfig.api_key = my_quandl_token"
   ]
  },
  {
   "cell_type": "code",
   "execution_count": 9,
   "metadata": {},
   "outputs": [],
   "source": [
    "AAPL = quandl.get(\"WIKI/AAPL\", start_date=\"2008-01-01\", end_date=\"2018-12-31\")"
   ]
  },
  {
   "cell_type": "code",
   "execution_count": 10,
   "metadata": {},
   "outputs": [],
   "source": [
    "#GOOG = quandl.get(\"WIKI/GOOGL\", start_date=\"2008-01-01\", end_date=\"2018-12-31\")"
   ]
  },
  {
   "cell_type": "code",
   "execution_count": 11,
   "metadata": {},
   "outputs": [
    {
     "data": {
      "text/html": [
       "<div>\n",
       "<style scoped>\n",
       "    .dataframe tbody tr th:only-of-type {\n",
       "        vertical-align: middle;\n",
       "    }\n",
       "\n",
       "    .dataframe tbody tr th {\n",
       "        vertical-align: top;\n",
       "    }\n",
       "\n",
       "    .dataframe thead th {\n",
       "        text-align: right;\n",
       "    }\n",
       "</style>\n",
       "<table border=\"1\" class=\"dataframe\">\n",
       "  <thead>\n",
       "    <tr style=\"text-align: right;\">\n",
       "      <th></th>\n",
       "      <th>Open</th>\n",
       "      <th>High</th>\n",
       "      <th>Low</th>\n",
       "      <th>Close</th>\n",
       "      <th>Volume</th>\n",
       "      <th>Ex-Dividend</th>\n",
       "      <th>Split Ratio</th>\n",
       "      <th>Adj. Open</th>\n",
       "      <th>Adj. High</th>\n",
       "      <th>Adj. Low</th>\n",
       "      <th>Adj. Close</th>\n",
       "      <th>Adj. Volume</th>\n",
       "    </tr>\n",
       "    <tr>\n",
       "      <th>Date</th>\n",
       "      <th></th>\n",
       "      <th></th>\n",
       "      <th></th>\n",
       "      <th></th>\n",
       "      <th></th>\n",
       "      <th></th>\n",
       "      <th></th>\n",
       "      <th></th>\n",
       "      <th></th>\n",
       "      <th></th>\n",
       "      <th></th>\n",
       "      <th></th>\n",
       "    </tr>\n",
       "  </thead>\n",
       "  <tbody>\n",
       "    <tr>\n",
       "      <th>2008-01-02</th>\n",
       "      <td>199.27</td>\n",
       "      <td>200.26</td>\n",
       "      <td>192.55</td>\n",
       "      <td>194.84</td>\n",
       "      <td>38542100.0</td>\n",
       "      <td>0.0</td>\n",
       "      <td>1.0</td>\n",
       "      <td>25.608972</td>\n",
       "      <td>25.736201</td>\n",
       "      <td>24.745359</td>\n",
       "      <td>25.039656</td>\n",
       "      <td>269794700.0</td>\n",
       "    </tr>\n",
       "    <tr>\n",
       "      <th>2008-01-03</th>\n",
       "      <td>195.41</td>\n",
       "      <td>197.39</td>\n",
       "      <td>192.69</td>\n",
       "      <td>194.93</td>\n",
       "      <td>30073800.0</td>\n",
       "      <td>0.0</td>\n",
       "      <td>1.0</td>\n",
       "      <td>25.112909</td>\n",
       "      <td>25.367366</td>\n",
       "      <td>24.763351</td>\n",
       "      <td>25.051222</td>\n",
       "      <td>210516600.0</td>\n",
       "    </tr>\n",
       "    <tr>\n",
       "      <th>2008-01-04</th>\n",
       "      <td>191.45</td>\n",
       "      <td>193.00</td>\n",
       "      <td>178.89</td>\n",
       "      <td>180.05</td>\n",
       "      <td>51994000.0</td>\n",
       "      <td>0.0</td>\n",
       "      <td>1.0</td>\n",
       "      <td>24.603993</td>\n",
       "      <td>24.803190</td>\n",
       "      <td>22.989858</td>\n",
       "      <td>23.138934</td>\n",
       "      <td>363958000.0</td>\n",
       "    </tr>\n",
       "    <tr>\n",
       "      <th>2008-01-07</th>\n",
       "      <td>181.25</td>\n",
       "      <td>183.60</td>\n",
       "      <td>170.23</td>\n",
       "      <td>177.64</td>\n",
       "      <td>74006900.0</td>\n",
       "      <td>0.0</td>\n",
       "      <td>1.0</td>\n",
       "      <td>23.293151</td>\n",
       "      <td>23.595159</td>\n",
       "      <td>21.876928</td>\n",
       "      <td>22.829216</td>\n",
       "      <td>518048300.0</td>\n",
       "    </tr>\n",
       "    <tr>\n",
       "      <th>2008-01-08</th>\n",
       "      <td>180.14</td>\n",
       "      <td>182.46</td>\n",
       "      <td>170.80</td>\n",
       "      <td>171.25</td>\n",
       "      <td>54422000.0</td>\n",
       "      <td>0.0</td>\n",
       "      <td>1.0</td>\n",
       "      <td>23.150501</td>\n",
       "      <td>23.448653</td>\n",
       "      <td>21.950181</td>\n",
       "      <td>22.008012</td>\n",
       "      <td>380954000.0</td>\n",
       "    </tr>\n",
       "  </tbody>\n",
       "</table>\n",
       "</div>"
      ],
      "text/plain": [
       "              Open    High     Low   Close      Volume  Ex-Dividend  \\\n",
       "Date                                                                  \n",
       "2008-01-02  199.27  200.26  192.55  194.84  38542100.0          0.0   \n",
       "2008-01-03  195.41  197.39  192.69  194.93  30073800.0          0.0   \n",
       "2008-01-04  191.45  193.00  178.89  180.05  51994000.0          0.0   \n",
       "2008-01-07  181.25  183.60  170.23  177.64  74006900.0          0.0   \n",
       "2008-01-08  180.14  182.46  170.80  171.25  54422000.0          0.0   \n",
       "\n",
       "            Split Ratio  Adj. Open  Adj. High   Adj. Low  Adj. Close  \\\n",
       "Date                                                                   \n",
       "2008-01-02          1.0  25.608972  25.736201  24.745359   25.039656   \n",
       "2008-01-03          1.0  25.112909  25.367366  24.763351   25.051222   \n",
       "2008-01-04          1.0  24.603993  24.803190  22.989858   23.138934   \n",
       "2008-01-07          1.0  23.293151  23.595159  21.876928   22.829216   \n",
       "2008-01-08          1.0  23.150501  23.448653  21.950181   22.008012   \n",
       "\n",
       "            Adj. Volume  \n",
       "Date                     \n",
       "2008-01-02  269794700.0  \n",
       "2008-01-03  210516600.0  \n",
       "2008-01-04  363958000.0  \n",
       "2008-01-07  518048300.0  \n",
       "2008-01-08  380954000.0  "
      ]
     },
     "execution_count": 11,
     "metadata": {},
     "output_type": "execute_result"
    }
   ],
   "source": [
    "AAPL.head()"
   ]
  },
  {
   "cell_type": "code",
   "execution_count": 12,
   "metadata": {},
   "outputs": [
    {
     "name": "stdout",
     "output_type": "stream",
     "text": [
      "<class 'pandas.core.frame.DataFrame'>\n",
      "DatetimeIndex: 2575 entries, 2008-01-02 to 2018-03-27\n",
      "Data columns (total 12 columns):\n",
      "Open           2575 non-null float64\n",
      "High           2575 non-null float64\n",
      "Low            2575 non-null float64\n",
      "Close          2575 non-null float64\n",
      "Volume         2575 non-null float64\n",
      "Ex-Dividend    2575 non-null float64\n",
      "Split Ratio    2575 non-null float64\n",
      "Adj. Open      2575 non-null float64\n",
      "Adj. High      2575 non-null float64\n",
      "Adj. Low       2575 non-null float64\n",
      "Adj. Close     2575 non-null float64\n",
      "Adj. Volume    2575 non-null float64\n",
      "dtypes: float64(12)\n",
      "memory usage: 261.5 KB\n"
     ]
    }
   ],
   "source": [
    "AAPL.info()"
   ]
  },
  {
   "cell_type": "code",
   "execution_count": 13,
   "metadata": {},
   "outputs": [],
   "source": [
    "style.use('ggplot')"
   ]
  },
  {
   "cell_type": "code",
   "execution_count": 14,
   "metadata": {},
   "outputs": [
    {
     "data": {
      "text/plain": [
       "<matplotlib.axes._subplots.AxesSubplot at 0x1a201f4b38>"
      ]
     },
     "execution_count": 14,
     "metadata": {},
     "output_type": "execute_result"
    },
    {
     "data": {
      "image/png": "[encoded data removed]",
      "text/plain": [
       "<Figure size 1152x576 with 1 Axes>"
      ]
     },
     "metadata": {},
     "output_type": "display_data"
    }
   ],
   "source": [
    "AAPL['Adj. Close'].plot(label='Apple',figsize=(16,8),title='Apple')"
   ]
  },
  {
   "cell_type": "code",
   "execution_count": 15,
   "metadata": {},
   "outputs": [],
   "source": [
    "#AAPL['Adj. Close'].plot(label='Apple',figsize=(16,8),title='Apple')"
   ]
  },
  {
   "cell_type": "code",
   "execution_count": 16,
   "metadata": {},
   "outputs": [],
   "source": [
    "df = AAPL[['Adj. Open', 'Adj. High','Adj. Low','Adj. Close','Adj. Volume']]"
   ]
  },
  {
   "cell_type": "code",
   "execution_count": 17,
   "metadata": {},
   "outputs": [],
   "source": [
    "df['HL_PCT'] = (df['Adj. High'] - df['Adj. Low']) / df['Adj. Low'] * 100.0"
   ]
  },
  {
   "cell_type": "code",
   "execution_count": 18,
   "metadata": {},
   "outputs": [],
   "source": [
    "df['PCT_change'] = (df['Adj. Close'] - df['Adj. Open']) / df['Adj. Open'] * 100.0"
   ]
  },
  {
   "cell_type": "code",
   "execution_count": 19,
   "metadata": {},
   "outputs": [
    {
     "name": "stdout",
     "output_type": "stream",
     "text": [
      "            Adj. Close    HL_PCT  PCT_change  Adj. Volume\n",
      "Date                                                     \n",
      "2008-01-02   25.039656  4.004155   -2.223114  269794700.0\n",
      "2008-01-03   25.051222  2.439151   -0.245637  210516600.0\n",
      "2008-01-04   23.138934  7.887529   -5.954557  363958000.0\n",
      "2008-01-07   22.829216  7.854080   -1.991724  518048300.0\n",
      "2008-01-08   22.008012  6.826698   -4.935051  380954000.0\n"
     ]
    }
   ],
   "source": [
    "df = df[['Adj. Close', 'HL_PCT', 'PCT_change', 'Adj. Volume']]\n",
    "print(df.head())"
   ]
  },
  {
   "cell_type": "code",
   "execution_count": null,
   "metadata": {},
   "outputs": [],
   "source": []
  },
  {
   "cell_type": "code",
   "execution_count": 20,
   "metadata": {},
   "outputs": [],
   "source": [
    "forecast_col = 'Adj. Close'\n",
    "df.fillna(value=-99999, inplace=True)\n",
    "forecast_out = int(math.ceil(0.03 * len(df)))"
   ]
  },
  {
   "cell_type": "code",
   "execution_count": 21,
   "metadata": {},
   "outputs": [
    {
     "data": {
      "text/html": [
       "<div>\n",
       "<style scoped>\n",
       "    .dataframe tbody tr th:only-of-type {\n",
       "        vertical-align: middle;\n",
       "    }\n",
       "\n",
       "    .dataframe tbody tr th {\n",
       "        vertical-align: top;\n",
       "    }\n",
       "\n",
       "    .dataframe thead th {\n",
       "        text-align: right;\n",
       "    }\n",
       "</style>\n",
       "<table border=\"1\" class=\"dataframe\">\n",
       "  <thead>\n",
       "    <tr style=\"text-align: right;\">\n",
       "      <th></th>\n",
       "      <th>Adj. Close</th>\n",
       "      <th>HL_PCT</th>\n",
       "      <th>PCT_change</th>\n",
       "      <th>Adj. Volume</th>\n",
       "      <th>label</th>\n",
       "    </tr>\n",
       "    <tr>\n",
       "      <th>Date</th>\n",
       "      <th></th>\n",
       "      <th></th>\n",
       "      <th></th>\n",
       "      <th></th>\n",
       "      <th></th>\n",
       "    </tr>\n",
       "  </thead>\n",
       "  <tbody>\n",
       "    <tr>\n",
       "      <th>2008-01-02</th>\n",
       "      <td>25.039656</td>\n",
       "      <td>4.004155</td>\n",
       "      <td>-2.223114</td>\n",
       "      <td>269794700.0</td>\n",
       "      <td>21.711145</td>\n",
       "    </tr>\n",
       "    <tr>\n",
       "      <th>2008-01-03</th>\n",
       "      <td>25.051222</td>\n",
       "      <td>2.439151</td>\n",
       "      <td>-0.245637</td>\n",
       "      <td>210516600.0</td>\n",
       "      <td>21.812671</td>\n",
       "    </tr>\n",
       "    <tr>\n",
       "      <th>2008-01-04</th>\n",
       "      <td>23.138934</td>\n",
       "      <td>7.887529</td>\n",
       "      <td>-5.954557</td>\n",
       "      <td>363958000.0</td>\n",
       "      <td>22.135241</td>\n",
       "    </tr>\n",
       "    <tr>\n",
       "      <th>2008-01-07</th>\n",
       "      <td>22.829216</td>\n",
       "      <td>7.854080</td>\n",
       "      <td>-1.991724</td>\n",
       "      <td>518048300.0</td>\n",
       "      <td>22.496365</td>\n",
       "    </tr>\n",
       "    <tr>\n",
       "      <th>2008-01-08</th>\n",
       "      <td>22.008012</td>\n",
       "      <td>6.826698</td>\n",
       "      <td>-4.935051</td>\n",
       "      <td>380954000.0</td>\n",
       "      <td>22.354999</td>\n",
       "    </tr>\n",
       "  </tbody>\n",
       "</table>\n",
       "</div>"
      ],
      "text/plain": [
       "            Adj. Close    HL_PCT  PCT_change  Adj. Volume      label\n",
       "Date                                                                \n",
       "2008-01-02   25.039656  4.004155   -2.223114  269794700.0  21.711145\n",
       "2008-01-03   25.051222  2.439151   -0.245637  210516600.0  21.812671\n",
       "2008-01-04   23.138934  7.887529   -5.954557  363958000.0  22.135241\n",
       "2008-01-07   22.829216  7.854080   -1.991724  518048300.0  22.496365\n",
       "2008-01-08   22.008012  6.826698   -4.935051  380954000.0  22.354999"
      ]
     },
     "execution_count": 21,
     "metadata": {},
     "output_type": "execute_result"
    }
   ],
   "source": [
    "df['label'] = df[forecast_col].shift(-forecast_out)\n",
    "df.head()"
   ]
  },
  {
   "cell_type": "code",
   "execution_count": 22,
   "metadata": {},
   "outputs": [],
   "source": [
    "df.dropna(inplace=True)"
   ]
  },
  {
   "cell_type": "code",
   "execution_count": 23,
   "metadata": {},
   "outputs": [],
   "source": [
    "X = np.array(df.drop(['label'], 1))\n",
    "y = np.array(df['label'])"
   ]
  },
  {
   "cell_type": "code",
   "execution_count": 24,
   "metadata": {},
   "outputs": [
    {
     "data": {
      "text/plain": [
       "array([[-1.08801631,  0.98511379, -1.3489896 ,  1.75490158],\n",
       "       [-1.08773568,  0.09872576, -0.14490456,  1.09592848],\n",
       "       [-1.13413361,  3.18458203, -3.62106389,  2.80168078],\n",
       "       ...,\n",
       "       [ 2.41654699,  0.66887264, -1.10640242, -0.7908791 ],\n",
       "       [ 2.47405041, -0.03863465,  0.51199101, -0.79772646],\n",
       "       [ 2.45463997, -0.2172271 ,  0.39877376, -0.80419954]])"
      ]
     },
     "execution_count": 24,
     "metadata": {},
     "output_type": "execute_result"
    }
   ],
   "source": [
    "from sklearn import preprocessing as prpr\n",
    "X = prpr.scale(X)\n",
    "X"
   ]
  },
  {
   "cell_type": "code",
   "execution_count": 25,
   "metadata": {},
   "outputs": [],
   "source": [
    "X_train, X_test, y_train, y_test = train_test_split(X, y, test_size=0.2)"
   ]
  },
  {
   "cell_type": "markdown",
   "metadata": {},
   "source": [
    "### Linear Regression"
   ]
  },
  {
   "cell_type": "code",
   "execution_count": 26,
   "metadata": {},
   "outputs": [],
   "source": [
    "clf = LinearRegression(n_jobs=-1)"
   ]
  },
  {
   "cell_type": "code",
   "execution_count": 27,
   "metadata": {},
   "outputs": [
    {
     "data": {
      "text/plain": [
       "LinearRegression(copy_X=True, fit_intercept=True, n_jobs=-1, normalize=False)"
      ]
     },
     "execution_count": 27,
     "metadata": {},
     "output_type": "execute_result"
    }
   ],
   "source": [
    "clf.fit(X_train, y_train)"
   ]
  },
  {
   "cell_type": "code",
   "execution_count": 28,
   "metadata": {},
   "outputs": [],
   "source": [
    "confidence = clf.score(X_test, y_test)"
   ]
  },
  {
   "cell_type": "code",
   "execution_count": 29,
   "metadata": {},
   "outputs": [
    {
     "name": "stdout",
     "output_type": "stream",
     "text": [
      "0.9475540114752588\n"
     ]
    }
   ],
   "source": [
    "print(confidence)"
   ]
  },
  {
   "cell_type": "code",
   "execution_count": 30,
   "metadata": {},
   "outputs": [
    {
     "data": {
      "text/plain": [
       "2497"
      ]
     },
     "execution_count": 30,
     "metadata": {},
     "output_type": "execute_result"
    }
   ],
   "source": [
    "X = np.array(df.drop(['label'], 1))\n",
    "len(X)"
   ]
  },
  {
   "cell_type": "code",
   "execution_count": 31,
   "metadata": {},
   "outputs": [
    {
     "data": {
      "text/plain": [
       "78"
      ]
     },
     "execution_count": 31,
     "metadata": {},
     "output_type": "execute_result"
    }
   ],
   "source": [
    "X_lately = X[-forecast_out:]\n",
    "#X = X[:-forecast_out]\n",
    "len(X_lately)"
   ]
  },
  {
   "cell_type": "code",
   "execution_count": 32,
   "metadata": {},
   "outputs": [
    {
     "name": "stdout",
     "output_type": "stream",
     "text": [
      "[164.59732026 166.90035638 168.52524573 168.0031317  165.0999889\n",
      " 164.66153715 164.40679779 166.91983668 167.1312038  166.59425893\n",
      " 166.77462376 168.48042307 169.93110359 170.18257779 170.78348238\n",
      " 171.24501943 169.3165578  169.18023711 168.40884946 165.75275688\n",
      " 168.33915833 166.93085748 166.06073167 165.29959379 166.29141348\n",
      " 165.76212409 165.84412568 162.76351466 160.36893121 158.24620598\n",
      " 157.16564185 159.91075821 161.16757278 160.43340507 161.20269846\n",
      " 161.09945145 161.71463116 160.62772552 162.47341204 162.47432723\n",
      " 163.08442206 163.48955596 163.75873364 163.33249301 164.14558273\n",
      " 166.99027635 167.64482913 166.96409574 162.51672524 163.26408107\n",
      " 163.42426138 164.27863695 163.72209163 164.58225624 169.88557198\n",
      " 173.42669331 175.7535034  174.0859812  175.03546058 178.52106704\n",
      " 181.03612441 181.68468892 182.8126046  181.44361595 181.00793554\n",
      " 178.42384994 175.93113973 178.02797224 177.19763853 177.07911614\n",
      " 180.18429038 181.83306911 182.06679442 181.14154063 180.18750082\n",
      " 176.64430033 178.54728839 177.68676913] 0.9418126098256213 78\n"
     ]
    }
   ],
   "source": [
    "df.dropna(inplace=True)\n",
    "y = np.array(df['label'])\n",
    "\n",
    "X_train, X_test, y_train, y_test = train_test_split(X, y, test_size=0.2)\n",
    "\n",
    "clf = LinearRegression(n_jobs=-1)\n",
    "clf.fit(X_train, y_train)\n",
    "accuracy = clf.score(X_test, y_test)\n",
    "forecast_set = clf.predict(X_lately)\n",
    "print(forecast_set,accuracy, forecast_out)"
   ]
  },
  {
   "cell_type": "code",
   "execution_count": 33,
   "metadata": {},
   "outputs": [],
   "source": [
    "df['Forecast'] = np.nan"
   ]
  },
  {
   "cell_type": "code",
   "execution_count": 34,
   "metadata": {},
   "outputs": [],
   "source": [
    "last_date = df.iloc[-1].name\n",
    "last_unix = last_date.timestamp()\n",
    "one_day = 86400\n",
    "next_unix = last_unix + one_day"
   ]
  },
  {
   "cell_type": "code",
   "execution_count": 35,
   "metadata": {},
   "outputs": [],
   "source": [
    "for i in forecast_set:\n",
    "    next_date = datetime.datetime.fromtimestamp(next_unix)\n",
    "    next_unix += 86400\n",
    "    df.loc[next_date] = [np.nan for _ in range(len(df.columns)-1)]+[i]"
   ]
  },
  {
   "cell_type": "code",
   "execution_count": 35,
   "metadata": {},
   "outputs": [
    {
     "data": {
      "image/png": "[encoded data removed]",
      "text/plain": [
       "<Figure size 1152x576 with 1 Axes>"
      ]
     },
     "metadata": {},
     "output_type": "display_data"
    }
   ],
   "source": [
    "# df['RM50'] = df['Adj. Close'].rolling(50).mean()\n",
    "\n",
    "df['Adj. Close'].plot(figsize=(16,8))\n",
    "df['Forecast'].plot(figsize=(16,8))\n",
    "plt.legend(loc=4)\n",
    "plt.xlabel('Date')\n",
    "plt.ylabel('Price')\n",
    "plt.title('Apple Stock')\n",
    "plt.show()"
   ]
  },
  {
   "cell_type": "code",
   "execution_count": null,
   "metadata": {},
   "outputs": [],
   "source": []
  }
 ],
 "metadata": {
  "kernelspec": {
   "display_name": "Python 3",
   "language": "python",
   "name": "python3"
  },
  "language_info": {
   "codemirror_mode": {
    "name": "ipython",
    "version": 3
   },
   "file_extension": ".py",
   "mimetype": "text/x-python",
   "name": "python",
   "nbconvert_exporter": "python",
   "pygments_lexer": "ipython3",
   "version": "3.7.3"
  }
 },
 "nbformat": 4,
 "nbformat_minor": 2
}
