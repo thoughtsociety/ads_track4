{
 "cells": [
  {
   "cell_type": "markdown",
   "metadata": {
    "colab_type": "text",
    "id": "xcGzR9zQD7Ba"
   },
   "source": [
    "![My Logo](https://thoughtsociety.org/wp-content/uploads/2019/03/ts_notebook_header.png)"
   ]
  },
  {
   "cell_type": "markdown",
   "metadata": {
    "colab_type": "text",
    "id": "J3RUdUJ-kaYD"
   },
   "source": [
    "### This is from Kaggle's Deep-Learning Course\n",
    "**Deep Learning From Scratch**\n",
    "\n",
    "<br>\n",
    "\n",
    "In this exercise, Dan Becker shows us how to identify clothing. It makes use of the 'fashion_mnist' dataset which are images of clothing. In order for the models to identify quickly, we are using low res versions of clothing.\n",
    "\n",
    "\n",
    "\n",
    "\n",
    "\n",
    "The deep learning model we will build will identify the image as a shoe.\n",
    "\n",
    "<br>\n",
    "\n",
    "\n",
    "---\n",
    "\n",
    "<br>\n",
    "\n",
    "![Imgur](https://i.imgur.com/GyXOnSB.png)\n",
    "\n"
   ]
  },
  {
   "cell_type": "markdown",
   "metadata": {},
   "source": [
    "To run this notebook and for it to access the dataset, you need to first download if from my public google drive.\n",
    "I have deprecated out my AWS/S3 buckets in favor using Gdrive. (free for now)\n",
    "\n",
    "[Use this URL](https://drive.google.com/open?id=1LO09cfNrrUY8aBcpSuWYnN0dag7DCDkU) to save it to your computer in the same directory as this jupyter notebook is running.\n",
    "\n",
    "You will get all kinds of warnings but don't fret. The file is safe and clean. It's just a 127 mbyte .csv file we will use for the project.\n",
    "\n",
    "After you have saved it, you can execute the pd.read_csv() cell below."
   ]
  },
  {
   "cell_type": "markdown",
   "metadata": {
    "colab_type": "text",
    "id": "x54yGmEBH0_o"
   },
   "source": [
    "# Imports"
   ]
  },
  {
   "cell_type": "code",
   "execution_count": 3,
   "metadata": {
    "colab": {
     "base_uri": "https://localhost:8080/",
     "height": 35
    },
    "colab_type": "code",
    "id": "MBAWA2gukaYF",
    "outputId": "64c27091-95c2-4171-920a-c5d934ae22af"
   },
   "outputs": [],
   "source": [
    "import numpy as np\n",
    "from sklearn.model_selection import train_test_split\n",
    "from tensorflow import keras"
   ]
  },
  {
   "cell_type": "markdown",
   "metadata": {
    "colab_type": "text",
    "id": "VQnGXKURkaYE"
   },
   "source": [
    "# Data Preparation"
   ]
  },
  {
   "cell_type": "code",
   "execution_count": 4,
   "metadata": {
    "colab": {},
    "colab_type": "code",
    "id": "vsq4lvBpHng5"
   },
   "outputs": [],
   "source": [
    "img_rows, img_cols = 28, 28\n",
    "num_classes = 10\n",
    "\n",
    "# Function to prep data\n",
    "# This will take in the fashion_data from the csv and reshape it\n",
    "# Convert some to categorical\n",
    "# do a mod-255 on the x data\n",
    "\n",
    "def prep_data(raw):\n",
    "    y = raw[:, 0]\n",
    "    out_y = keras.utils.to_categorical(y, num_classes)\n",
    "    \n",
    "    x = raw[:,1:]\n",
    "    num_images = raw.shape[0]\n",
    "    out_x = x.reshape(num_images, img_rows, img_cols, 1)\n",
    "    out_x = out_x / 255\n",
    "    return out_x, out_y\n"
   ]
  },
  {
   "cell_type": "code",
   "execution_count": 11,
   "metadata": {
    "colab": {},
    "colab_type": "code",
    "id": "A24QyXNcHWpC"
   },
   "outputs": [
    {
     "name": "stdout",
     "output_type": "stream",
     "text": [
      "Setup Complete\n"
     ]
    }
   ],
   "source": [
    "# Fetch fashion-mnist.csv from S3 bucket\n",
    "# create fashion_data by calling pre_data\n",
    "\n",
    "fashion_file = \"fashion-mnist_train.csv\" # The local file we downloaded from Gdrive\n",
    "fashion_data = np.loadtxt(fashion_file, skiprows=1, delimiter=',')\n",
    "x, y = prep_data(fashion_data)\n",
    "\n",
    "# Signal that setup has completed\n",
    "\n",
    "print(\"Setup Complete\")"
   ]
  },
  {
   "cell_type": "code",
   "execution_count": null,
   "metadata": {
    "colab": {},
    "colab_type": "code",
    "id": "5rXSo_SPHkWu"
   },
   "outputs": [],
   "source": []
  },
  {
   "cell_type": "markdown",
   "metadata": {
    "colab_type": "text",
    "id": "o0qFbhvskaYL"
   },
   "source": [
    "# 1) Start building the model"
   ]
  },
  {
   "cell_type": "code",
   "execution_count": 12,
   "metadata": {
    "colab": {},
    "colab_type": "code",
    "id": "Vg9hoOaokaYM"
   },
   "outputs": [],
   "source": [
    "from tensorflow import keras\n",
    "from tensorflow.keras.models import Sequential\n",
    "from tensorflow.keras.layers import Dense, Flatten, Conv2D\n",
    "\n",
    "\n",
    "fashion_model = Sequential()\n"
   ]
  },
  {
   "cell_type": "markdown",
   "metadata": {
    "colab_type": "text",
    "id": "8YlN_zjhkaYS"
   },
   "source": [
    "# 2) Add the first layer\n",
    "\n",
    "Add the first `Conv2D` layer to `fashion_model`. It should have 12 filters, a kernel_size of 3 and the `relu` activation function. The first layer always requires that you specify the `input_shape`.  We have saved the number of rows and columns to the variables `img_rows` and `img_cols` respectively, so the input shape in this case is `(img_rows, img_cols, 1)`."
   ]
  },
  {
   "cell_type": "code",
   "execution_count": 13,
   "metadata": {
    "colab": {},
    "colab_type": "code",
    "id": "lQHlHT3lkaYT"
   },
   "outputs": [],
   "source": [
    "fashion_model.add(Conv2D(12,kernel_size=(3,3),activation='relu',input_shape=(img_rows, img_cols, 1)))"
   ]
  },
  {
   "cell_type": "markdown",
   "metadata": {
    "colab_type": "text",
    "id": "Lml5dQdYkaYZ"
   },
   "source": [
    "# 3) Add the remaining layers\n",
    "\n",
    "1. Add 2 more convolutional (`Conv2D layers`) with 20 filters each, 'relu' activation, and a kernel size of 3. Follow that with a `Flatten` layer, and then a `Dense` layer with 100 neurons. \n",
    "2. Add your prediction layer to `fashion_model`.  This is a `Dense` layer.  We alrady have a variable called `num_classes`.  Use this variable when specifying the number of nodes in this layer. The activation should be `softmax` (or you will have problems later)."
   ]
  },
  {
   "cell_type": "code",
   "execution_count": 14,
   "metadata": {
    "colab": {},
    "colab_type": "code",
    "id": "X99YSS6fkaYa"
   },
   "outputs": [],
   "source": [
    "\n",
    "fashion_model.add(Conv2D(20, activation='relu',kernel_size=3))\n",
    "fashion_model.add(Conv2D(20, activation='relu',kernel_size=3))\n",
    "fashion_model.add(Flatten()) # Reshape tensor into 1D\n",
    "fashion_model.add(Dense(100, activation='relu'))\n",
    "fashion_model.add(Dense(10, activation='softmax'))"
   ]
  },
  {
   "cell_type": "markdown",
   "metadata": {
    "colab_type": "text",
    "id": "gB1NURjwkaYf"
   },
   "source": [
    "# 4) Compile the Model\n",
    "Compile fashion_model with the `compile` method.  Specify the following arguments:\n",
    "1. `loss = \"categorical_crossentropy\"`\n",
    "2. `optimizer = 'adam'`\n",
    "3. `metrics = ['accuracy']`"
   ]
  },
  {
   "cell_type": "code",
   "execution_count": 15,
   "metadata": {
    "colab": {},
    "colab_type": "code",
    "id": "fxSmcKDpkaYg"
   },
   "outputs": [],
   "source": [
    "fashion_model.compile(loss=keras.losses.categorical_crossentropy,\n",
    "              optimizer='adam',\n",
    "              metrics=['accuracy'])"
   ]
  },
  {
   "cell_type": "markdown",
   "metadata": {
    "colab_type": "text",
    "id": "OvU5oBO7kaYl"
   },
   "source": [
    "# 5) Fit The Model\n",
    "\n",
    "Run the command `fashion_model.fit`. The arguments you will use are\n",
    "1. The data used to fit the model. First comes the data holding the images, and second is the data with the class labels to be predicted. Look at the first code cell (which was supplied to you) where we called `prep_data` to find the variable names for these.\n",
    "2. `batch_size = 100`\n",
    "3. `epochs = 4`\n",
    "4. `validation_split = 0.2`\n",
    "\n",
    "When you run this command, you can watch your model start improving.  You will see validation accuracies after each epoch."
   ]
  },
  {
   "cell_type": "code",
   "execution_count": 16,
   "metadata": {
    "colab": {
     "base_uri": "https://localhost:8080/",
     "height": 217
    },
    "colab_type": "code",
    "id": "TusnkAh4kaYm",
    "outputId": "a5048129-af74-4f89-bd79-128dcbd7c391"
   },
   "outputs": [
    {
     "name": "stdout",
     "output_type": "stream",
     "text": [
      "Train on 48000 samples, validate on 12000 samples\n",
      "WARNING:tensorflow:From /Users/salvideoguy/anaconda3/lib/python3.7/site-packages/tensorflow/python/ops/math_ops.py:3066: to_int32 (from tensorflow.python.ops.math_ops) is deprecated and will be removed in a future version.\n",
      "Instructions for updating:\n",
      "Use tf.cast instead.\n",
      "Epoch 1/4\n",
      "48000/48000 [==============================] - 183s 4ms/sample - loss: 0.4691 - acc: 0.8323 - val_loss: 0.3398 - val_acc: 0.8803\n",
      "Epoch 2/4\n",
      "48000/48000 [==============================] - 182s 4ms/sample - loss: 0.2996 - acc: 0.8917 - val_loss: 0.3046 - val_acc: 0.8932\n",
      "Epoch 3/4\n",
      "48000/48000 [==============================] - 182s 4ms/sample - loss: 0.2432 - acc: 0.9113 - val_loss: 0.2638 - val_acc: 0.9060\n",
      "Epoch 4/4\n",
      "48000/48000 [==============================] - 182s 4ms/sample - loss: 0.2010 - acc: 0.9256 - val_loss: 0.2606 - val_acc: 0.9072\n",
      "Elapsed Training Time : 730.892 seconds\n"
     ]
    }
   ],
   "source": [
    "import time\n",
    "\n",
    "tic = time.time()\n",
    "fashion_model.fit(x, y,\n",
    "          batch_size=100,\n",
    "          epochs=4,\n",
    "          validation_split = 0.2)\n",
    "toc = time.time()\n",
    "print ('Elapsed Training Time : {:0.3f} seconds'.format(toc-tic))"
   ]
  },
  {
   "cell_type": "markdown",
   "metadata": {
    "colab_type": "text",
    "id": "7Ul-MX7HkaYs"
   },
   "source": [
    "# 6) Create A New Model\n",
    "\n",
    "Create a new model called `second_fashion_model` in the cell below.  Make some changes so it is different than `fashion_model` that you've trained above. The change could be using a different number of layers, different number of convolutions in the layers, etc.\n",
    "\n",
    "Define the model, compile it and fit it in the cell below.  See how it's validation score compares to that of the original model."
   ]
  },
  {
   "cell_type": "code",
   "execution_count": 17,
   "metadata": {
    "colab": {
     "base_uri": "https://localhost:8080/",
     "height": 217
    },
    "colab_type": "code",
    "id": "ol86u0F9kaYt",
    "outputId": "72419140-44d9-48a6-a4c2-f65227c89d7d"
   },
   "outputs": [
    {
     "name": "stdout",
     "output_type": "stream",
     "text": [
      "Train on 48000 samples, validate on 12000 samples\n",
      "Epoch 1/4\n",
      "48000/48000 [==============================] - 209s 4ms/sample - loss: 0.4624 - acc: 0.8347 - val_loss: 0.3597 - val_acc: 0.8708\n",
      "Epoch 2/4\n",
      "48000/48000 [==============================] - 209s 4ms/sample - loss: 0.3020 - acc: 0.8894 - val_loss: 0.2897 - val_acc: 0.8968\n",
      "Epoch 3/4\n",
      "48000/48000 [==============================] - 209s 4ms/sample - loss: 0.2422 - acc: 0.9109 - val_loss: 0.2939 - val_acc: 0.8942\n",
      "Epoch 4/4\n",
      "48000/48000 [==============================] - 208s 4ms/sample - loss: 0.2048 - acc: 0.9241 - val_loss: 0.2868 - val_acc: 0.9032\n",
      "Elapsed Training Time : 836.335 seconds\n"
     ]
    }
   ],
   "source": [
    "second_fashion_model = Sequential()\n",
    "second_fashion_model.add(Conv2D(12,\n",
    "                         activation='relu',\n",
    "                         kernel_size=3,\n",
    "                         input_shape = (img_rows, img_cols, 1)))\n",
    "# Changed kernel sizes to be 2\n",
    "second_fashion_model.add(Conv2D(20, activation='relu', kernel_size=2))\n",
    "second_fashion_model.add(Conv2D(20, activation='relu', kernel_size=2))\n",
    "# added an addition Conv2D layer\n",
    "second_fashion_model.add(Conv2D(20, activation='relu', kernel_size=2))\n",
    "second_fashion_model.add(Flatten())\n",
    "second_fashion_model.add(Dense(100, activation='relu'))\n",
    "# It is important not to change the last layer. First argument matches number of classes. Softmax guarantees we get reasonable probabilities\n",
    "second_fashion_model.add(Dense(10, activation='softmax'))\n",
    "\n",
    "second_fashion_model.compile(loss='categorical_crossentropy',\n",
    "                             optimizer='adam',\n",
    "                             metrics=['accuracy'])\n",
    "tic = time.time()\n",
    "\n",
    "second_fashion_model.fit(x, y, batch_size=100, epochs=4, validation_split=0.2)\n",
    "toc = time.time()\n",
    "print ('Elapsed Training Time : {:0.3f} seconds'.format(toc-tic))"
   ]
  },
  {
   "cell_type": "code",
   "execution_count": 0,
   "metadata": {
    "colab": {},
    "colab_type": "code",
    "id": "HLwsyaAvMruB"
   },
   "outputs": [],
   "source": []
  }
 ],
 "metadata": {
  "accelerator": "GPU",
  "colab": {
   "collapsed_sections": [],
   "name": "timed-T4_S8_Deep_Learning_Fashion_Mnist.ipynb",
   "provenance": [],
   "toc_visible": true,
   "version": "0.3.2"
  },
  "kernelspec": {
   "display_name": "Python 3",
   "language": "python",
   "name": "python3"
  },
  "language_info": {
   "codemirror_mode": {
    "name": "ipython",
    "version": 3
   },
   "file_extension": ".py",
   "mimetype": "text/x-python",
   "name": "python",
   "nbconvert_exporter": "python",
   "pygments_lexer": "ipython3",
   "version": "3.7.3"
  }
 },
 "nbformat": 4,
 "nbformat_minor": 1
}
